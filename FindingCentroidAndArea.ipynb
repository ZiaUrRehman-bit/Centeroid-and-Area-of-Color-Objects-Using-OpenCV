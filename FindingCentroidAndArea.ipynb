{
 "cells": [
  {
   "cell_type": "markdown",
   "metadata": {},
   "source": [
    "### Demonstartion of Technique to find Area and Center of a color object form Webcam"
   ]
  },
  {
   "cell_type": "markdown",
   "metadata": {},
   "source": [
    "##### 1. Import libraries "
   ]
  },
  {
   "cell_type": "code",
   "execution_count": 9,
   "metadata": {},
   "outputs": [],
   "source": [
    "import cv2 as cv\n",
    "import numpy as np\n",
    "import imutils\n",
    "import matplotlib.pyplot as plt"
   ]
  },
  {
   "cell_type": "markdown",
   "metadata": {},
   "source": [
    "##### 2. Capture frame from Webcame"
   ]
  },
  {
   "cell_type": "code",
   "execution_count": 10,
   "metadata": {},
   "outputs": [],
   "source": [
    "cap = cv.VideoCapture(0)"
   ]
  },
  {
   "cell_type": "markdown",
   "metadata": {},
   "source": [
    "##### 3. Now read the frames and display"
   ]
  },
  {
   "cell_type": "code",
   "execution_count": 11,
   "metadata": {},
   "outputs": [],
   "source": [
    "while True:\n",
    "    Success, frame = cap.read()\n",
    "\n",
    "   \n",
    "    cv.imshow(\"frame\",frame)\n",
    "    k = cv.waitKey(1)\n",
    "\n",
    "    if k == ord('q'):\n",
    "        cap.release()\n",
    "        cv.destroyAllWindows()\n",
    "        break\n",
    "    \n",
    "cap.release()\n",
    "cv.destroyAllWindows()"
   ]
  },
  {
   "cell_type": "markdown",
   "metadata": {},
   "source": [
    "##### 4. Need tackbars to adjust HSV color space and find out the color of object from frame"
   ]
  },
  {
   "cell_type": "code",
   "execution_count": 12,
   "metadata": {},
   "outputs": [],
   "source": [
    "def nothing(x):\n",
    "    pass"
   ]
  },
  {
   "cell_type": "code",
   "execution_count": 13,
   "metadata": {},
   "outputs": [
    {
     "ename": "error",
     "evalue": "OpenCV(4.5.4) D:\\a\\opencv-python\\opencv-python\\opencv\\modules\\imgproc\\src\\color.cpp:182: error: (-215:Assertion failed) !_src.empty() in function 'cv::cvtColor'\n",
     "output_type": "error",
     "traceback": [
      "\u001b[1;31m---------------------------------------------------------------------------\u001b[0m",
      "\u001b[1;31merror\u001b[0m                                     Traceback (most recent call last)",
      "Cell \u001b[1;32mIn [13], line 22\u001b[0m\n\u001b[0;32m     18\u001b[0m uv \u001b[39m=\u001b[39m cv\u001b[39m.\u001b[39mgetTrackbarPos(\u001b[39m\"\u001b[39m\u001b[39mUV\u001b[39m\u001b[39m\"\u001b[39m, \u001b[39m\"\u001b[39m\u001b[39mHSV\u001b[39m\u001b[39m\"\u001b[39m)\n\u001b[0;32m     20\u001b[0m \u001b[39m# hsvv= cv.cvtColor(frame, cv.COLOR_BGR2HSV) \u001b[39;00m\n\u001b[1;32m---> 22\u001b[0m cv\u001b[39m.\u001b[39;49mimshow(\u001b[39m\"\u001b[39;49m\u001b[39mframe\u001b[39;49m\u001b[39m\"\u001b[39;49m,frame)\n\u001b[0;32m     23\u001b[0m k \u001b[39m=\u001b[39m cv\u001b[39m.\u001b[39mwaitKey(\u001b[39m1\u001b[39m)\n\u001b[0;32m     25\u001b[0m \u001b[39mif\u001b[39;00m k \u001b[39m==\u001b[39m \u001b[39mord\u001b[39m(\u001b[39m'\u001b[39m\u001b[39mq\u001b[39m\u001b[39m'\u001b[39m):\n",
      "\u001b[1;31merror\u001b[0m: OpenCV(4.5.4) D:\\a\\opencv-python\\opencv-python\\opencv\\modules\\imgproc\\src\\color.cpp:182: error: (-215:Assertion failed) !_src.empty() in function 'cv::cvtColor'\n"
     ]
    }
   ],
   "source": [
    "cv.namedWindow(\"HSV\", cv.WINDOW_NORMAL)\n",
    "\n",
    "cv.createTrackbar(\"LH\", \"HSV\", 0, 180, nothing)\n",
    "cv.createTrackbar(\"UH\", \"HSV\", 180, 180, nothing)\n",
    "cv.createTrackbar(\"LS\", \"HSV\", 0, 255, nothing)\n",
    "cv.createTrackbar(\"US\", \"HSV\", 255, 255, nothing)\n",
    "cv.createTrackbar(\"LV\", \"HSV\", 0, 255, nothing)\n",
    "cv.createTrackbar(\"UV\", \"HSV\", 255, 255, nothing)\n",
    "\n",
    "while True:\n",
    "    Success, frame = cap.read()\n",
    "\n",
    "    lh = cv.getTrackbarPos(\"LH\", \"HSV\")\n",
    "    uh = cv.getTrackbarPos(\"UH\", \"HSV\")\n",
    "    ls = cv.getTrackbarPos(\"LS\", \"HSV\")\n",
    "    us = cv.getTrackbarPos(\"US\", \"HSV\")\n",
    "    lv = cv.getTrackbarPos(\"LV\", \"HSV\")\n",
    "    uv = cv.getTrackbarPos(\"UV\", \"HSV\")\n",
    "    \n",
    "    # hsvv= cv.cvtColor(frame, cv.COLOR_BGR2HSV) \n",
    "\n",
    "    cv.imshow(\"frame\",frame)\n",
    "    k = cv.waitKey(1)\n",
    "\n",
    "    if k == ord('q'):\n",
    "        cap.release()\n",
    "        cv.destroyAllWindows()\n",
    "        break\n",
    "    \n",
    "cap.release()\n",
    "cv.destroyAllWindows()"
   ]
  },
  {
   "cell_type": "code",
   "execution_count": null,
   "metadata": {},
   "outputs": [],
   "source": []
  }
 ],
 "metadata": {
  "kernelspec": {
   "display_name": "Python 3.9.1 64-bit",
   "language": "python",
   "name": "python3"
  },
  "language_info": {
   "codemirror_mode": {
    "name": "ipython",
    "version": 3
   },
   "file_extension": ".py",
   "mimetype": "text/x-python",
   "name": "python",
   "nbconvert_exporter": "python",
   "pygments_lexer": "ipython3",
   "version": "3.9.1"
  },
  "orig_nbformat": 4,
  "vscode": {
   "interpreter": {
    "hash": "b671c20432fcd147198c92e7f072af9e705f087eb990bee22b07f08caab9f630"
   }
  }
 },
 "nbformat": 4,
 "nbformat_minor": 2
}
